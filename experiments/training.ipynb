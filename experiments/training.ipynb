{
  "cells": [
    {
      "cell_type": "code",
      "metadata": {
        "id": "bUwqhmmoBVmJ",
        "colab_type": "code",
        "outputId": "d17a28ba-868e-4ca8-9340-864c86235ebf",
        "colab": {
          "base_uri": "https://localhost:8080/",
          "height": 34
        }
      },
      "source": [
        "from google.colab import drive\n",
        "drive.mount('/content/drive')"
      ],
      "execution_count": null,
      "outputs": []
    },
    {
      "cell_type": "code",
      "metadata": {
        "id": "18VghlS3BaMu",
        "colab_type": "code",
        "outputId": "e4beeb80-9d22-47d3-ec1f-6ed92242a6ad",
        "colab": {
          "base_uri": "https://localhost:8080/",
          "height": 34
        }
      },
      "source": [
        "cd /content/drive/My Drive/Encoder-Decoder-JCLdic/experiments"
      ],
      "execution_count": null,
      "outputs": []
    },
    {
      "cell_type": "code",
      "metadata": {
        "id": "Tb14cbagCd-Y",
        "colab_type": "code",
        "colab": {}
      },
      "source": [
        "import pandas as pd\n",
        "from sklearn.model_selection import train_test_split"
      ],
      "execution_count": null,
      "outputs": []
    },
    {
      "cell_type": "code",
      "metadata": {
        "id": "PsVX1p-dX_l3",
        "colab_type": "code",
        "colab": {
          "base_uri": "https://localhost:8080/",
          "height": 306
        },
        "outputId": "e612fad5-d7a6-432a-a2e8-f8271da373d0"
      },
      "source": [
        "!nvidia-smi"
      ],
      "execution_count": null,
      "outputs": []
    },
    {
      "cell_type": "code",
      "metadata": {
        "id": "9ZDmXMrxgAPC",
        "colab_type": "code",
        "outputId": "dba5ee08-1bdc-4f1c-ed56-148a740b16a6",
        "colab": {
          "base_uri": "https://localhost:8080/",
          "height": 663
        }
      },
      "source": [
        "!pip install OpenNMT-py"
      ],
      "execution_count": null,
      "outputs": []
    },
    {
      "cell_type": "code",
      "metadata": {
        "id": "9_qFE8j2Ydqg",
        "colab_type": "code",
        "colab": {}
      },
      "source": [
        "df = pd.read_pickle('../data/jcl_full_preprocessed.pickle')\n",
        "df = df.dropna()\n",
        "\n",
        "df['src'] = df['c0'].apply(lambda x: ' '.join(list(x)))\n",
        "df['tgt'] = df['c10'].apply(lambda x: ' '.join(list(x)))\n",
        "y_dummy = range(len(df))\n",
        "\n",
        "train, test, _, y_dummy = train_test_split(df, y_dummy, test_size=0.4, shuffle=False, random_state=42)\n",
        "valid, test, _, _ = train_test_split(test, y_dummy, test_size=0.5, shuffle=False, random_state=42)\n",
        "\n",
        "train['src'].to_csv('../data/train-src.txt', index=False, header=False)\n",
        "valid['src'].to_csv('../data/valid-src.txt', index=False, header=False)\n",
        "test['src'].to_csv('../data/test-src.txt', index=False, header=False)\n",
        "train['tgt'].to_csv('../data/train-tgt.txt', index=False, header=False)\n",
        "valid['tgt'].to_csv('../data/valid-tgt.txt', index=False, header=False)\n",
        "test['tgt'].to_csv('../data/test-tgt.txt', index=False, header=False)"
      ],
      "execution_count": null,
      "outputs": []
    },
    {
      "cell_type": "code",
      "metadata": {
        "id": "QD2wvWQuk5y1",
        "colab_type": "code",
        "colab": {
          "base_uri": "https://localhost:8080/",
          "height": 479
        },
        "outputId": "2d7b089c-bcd5-4cc1-f699-1feeab57bcb5"
      },
      "source": [
        "!onmt_preprocess  \\\n",
        "  -train_src ../data/train-src.txt  \\\n",
        "  -train_tgt ../data/train-tgt.txt  \\\n",
        "  -valid_src ../data/valid-src.txt  \\\n",
        "  -valid_tgt ../data/valid-tgt.txt  \\\n",
        "  -save_data ../data/data  \\\n",
        "  -src_vocab_size 10000  \\\n",
        "  -tgt_vocab_size 10000"
      ],
      "execution_count": null,
      "outputs": []
    },
    {
      "cell_type": "code",
      "metadata": {
        "id": "XpiDHwx0gHdm",
        "colab_type": "code",
        "colab": {}
      },
      "source": [
        "!export CUDA_VISIBLE_DEVICES=0"
      ],
      "execution_count": null,
      "outputs": []
    },
    {
      "cell_type": "code",
      "metadata": {
        "id": "OSIQuVJ9gDWg",
        "colab_type": "code",
        "colab": {
          "base_uri": "https://localhost:8080/",
          "height": 1000
        },
        "outputId": "97c32378-ed77-420d-d1a1-0938ba781da6"
      },
      "source": [
        "!onmt_train  \\\n",
        "  -data ../data/data  \\\n",
        "  -save_model ../data/demo-model  \\\n",
        "  -train_steps 10000  \\\n",
        "  -world_size 1  \\\n",
        "  -gpu_ranks 0"
      ],
      "execution_count": null,
      "outputs": []
    },
    {
      "cell_type": "code",
      "metadata": {
        "id": "aihs0Ax1Yfqv",
        "colab_type": "code",
        "outputId": "41cfcfc7-6361-47d3-9986-c58f0276244d",
        "colab": {
          "base_uri": "https://localhost:8080/",
          "height": 1000
        }
      },
      "source": [
        "!onmt_translate  \\\n",
        "  -model ../data/demo-model_step_10000.pt  \\\n",
        "  -src ../data/test-src.txt  \\\n",
        "  -output ../data/test-pred.txt  \\\n",
        "  -replace_unk -verbose"
      ],
      "execution_count": null,
      "outputs": []
    },
    {
      "cell_type": "code",
      "metadata": {
        "id": "sapShfWBLkes",
        "colab_type": "code",
        "colab": {}
      },
      "source": [
        ""
      ],
      "execution_count": null,
      "outputs": []
    }
  ],
  "metadata": {
    "colab": {
      "name": "training",
      "provenance": [],
      "collapsed_sections": [],
      "machine_shape": "hm"
    },
    "kernelspec": {
      "name": "python3",
      "display_name": "Python 3"
    },
    "accelerator": "GPU"
  },
  "nbformat": 4,
  "nbformat_minor": 0
}